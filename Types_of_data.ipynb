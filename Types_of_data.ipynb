{
  "nbformat": 4,
  "nbformat_minor": 0,
  "metadata": {
    "colab": {
      "provenance": [],
      "authorship_tag": "ABX9TyNVWIQZpVd6TIjC5fY98FZ+",
      "include_colab_link": true
    },
    "kernelspec": {
      "name": "python3",
      "display_name": "Python 3"
    },
    "language_info": {
      "name": "python"
    }
  },
  "cells": [
    {
      "cell_type": "markdown",
      "metadata": {
        "id": "view-in-github",
        "colab_type": "text"
      },
      "source": [
        "<a href=\"https://colab.research.google.com/github/Shaikh-Ruman/Python/blob/main/Types_of_data.ipynb\" target=\"_parent\"><img src=\"https://colab.research.google.com/assets/colab-badge.svg\" alt=\"Open In Colab\"/></a>"
      ]
    },
    {
      "cell_type": "code",
      "execution_count": null,
      "metadata": {
        "colab": {
          "base_uri": "https://localhost:8080/"
        },
        "id": "y2ngSb4fsibv",
        "outputId": "05d4bcfa-447e-443b-df74-f168d3b3466f"
      },
      "outputs": [
        {
          "output_type": "stream",
          "name": "stdout",
          "text": [
            "Sum: 68.5\n",
            "Square Root: 8.276472678623424\n"
          ]
        }
      ],
      "source": [
        "#Dealing and Handling types of data\n",
        "\n",
        "#Handle Nuemrical data\n",
        "import numpy as np\n",
        "import pandas as pd\n",
        "\n",
        "num1 = 34\n",
        "num2 = 34.5\n",
        "\n",
        "#Arithmetic Operation - Sum, Square root\n",
        "sum_value = num1+num2\n",
        "square_root = np.sqrt(sum_value)\n",
        "print('Sum:', sum_value)\n",
        "print('Square Root:', square_root)\n"
      ]
    },
    {
      "cell_type": "code",
      "metadata": {
        "colab": {
          "base_uri": "https://localhost:8080/"
        },
        "id": "a00cd90c",
        "outputId": "e467cabb-2584-46f7-9eca-83853605a9d7"
      },
      "source": [
        "#Handling Categorical data\n",
        "\n",
        "import pandas as pd\n",
        "import numpy as np # Import numpy as it's used for np.nan\n",
        "\n",
        "# DataFrame creation\n",
        "df = pd.DataFrame({'Color':['Red','Blue','Green','Red',np.nan]})\n",
        "\n",
        "df['Color'].fillna('Unknown',inplace=True)\n",
        "\n",
        "#ONE-HOT ENCODING - Convert categorical values to numerical.\n",
        "df_encoded = pd.get_dummies(df, columns=['Color'])\n",
        "print(df_encoded)"
      ],
      "execution_count": null,
      "outputs": [
        {
          "output_type": "stream",
          "name": "stdout",
          "text": [
            "   Color_Blue  Color_Green  Color_Red  Color_Unknown\n",
            "0       False        False       True          False\n",
            "1        True        False      False          False\n",
            "2       False         True      False          False\n",
            "3       False        False       True          False\n",
            "4       False        False      False           True\n"
          ]
        },
        {
          "output_type": "stream",
          "name": "stderr",
          "text": [
            "/tmp/ipython-input-827564477.py:9: FutureWarning: A value is trying to be set on a copy of a DataFrame or Series through chained assignment using an inplace method.\n",
            "The behavior will change in pandas 3.0. This inplace method will never work because the intermediate object on which we are setting values always behaves as a copy.\n",
            "\n",
            "For example, when doing 'df[col].method(value, inplace=True)', try using 'df.method({col: value}, inplace=True)' or df[col] = df[col].method(value) instead, to perform the operation inplace on the original object.\n",
            "\n",
            "\n",
            "  df['Color'].fillna('Unknown',inplace=True)\n"
          ]
        }
      ]
    },
    {
      "cell_type": "code",
      "source": [
        "#Handle the text data\n",
        "\n",
        "import re\n",
        "text = \"Hello, World! Welcome to Python.\"\n",
        "\n",
        "#Convert to lowercase\n",
        "lowercase_text = text.lower()\n",
        "print(lowercase_text)\n",
        "\n",
        "#Remove punctuation\n",
        "cleaned_text = re.sub(r'[^\\w\\s]', '', text)\n",
        "print(cleaned_text)\n",
        "\n",
        "#Tokenize words\n",
        "words = text.split()\n",
        "print(words)"
      ],
      "metadata": {
        "colab": {
          "base_uri": "https://localhost:8080/"
        },
        "id": "E875mRBIwjoa",
        "outputId": "1b86e6fe-fa47-44e7-fa2b-6b96bd6c4d76"
      },
      "execution_count": null,
      "outputs": [
        {
          "output_type": "stream",
          "name": "stdout",
          "text": [
            "hello, world! welcome to python.\n",
            "Hello World Welcome to Python\n",
            "['Hello,', 'World!', 'Welcome', 'to', 'Python.']\n"
          ]
        }
      ]
    },
    {
      "cell_type": "code",
      "source": [
        "#Handle the date and time data\n",
        "\n",
        "from datetime import datetime, timedelta\n",
        "\n",
        "#current date and time\n",
        "now = datetime.now()\n",
        "\n",
        "#Formatting the date\n",
        "formatted_date = now.strftime(\"%Y-%m-%d %H:%M:%S\")\n",
        "print(formatted_date)\n",
        "\n",
        "#Date and time calculation or Adding 7 days\n",
        "future_date = now + timedelta(days=7)\n",
        "print(future_date)\n",
        "\n"
      ],
      "metadata": {
        "colab": {
          "base_uri": "https://localhost:8080/"
        },
        "id": "jt8Ev0eXyDZR",
        "outputId": "6ec2245e-2140-4326-d058-682f9c19a62a"
      },
      "execution_count": 1,
      "outputs": [
        {
          "output_type": "stream",
          "name": "stdout",
          "text": [
            "2025-09-24 19:41:30\n",
            "2025-10-01 19:41:30.811363\n"
          ]
        }
      ]
    },
    {
      "cell_type": "code",
      "source": [
        "#Handling Null values\n",
        "\n",
        "import pandas as pd\n",
        "import numpy as np\n",
        "\n",
        "df = pd.DataFrame({'Color':['Red','Blue','Green','Red',np.nan]})\n",
        "df.fillna('Unknown',inplace=True)\n",
        "print(df)\n"
      ],
      "metadata": {
        "colab": {
          "base_uri": "https://localhost:8080/"
        },
        "id": "_lYs5n4tQLIs",
        "outputId": "37321ec7-5ffc-463f-990f-538f7c0a1834"
      },
      "execution_count": 3,
      "outputs": [
        {
          "output_type": "stream",
          "name": "stdout",
          "text": [
            "     Color\n",
            "0      Red\n",
            "1     Blue\n",
            "2    Green\n",
            "3      Red\n",
            "4  Unknown\n"
          ]
        }
      ]
    },
    {
      "cell_type": "code",
      "source": [
        "#Handling missing or null data\n",
        "\n",
        "import pandas as pd\n",
        "import numpy as np\n",
        "\n",
        "df = pd.DataFrame({'Name':['Chandan','Rahul',None,'Dev'],'Salary':[5000,7000,6000,None]})\n",
        "\n",
        "#Drop the missing value\n",
        "df_dropped = df.dropna()\n",
        "print(df_dropped)"
      ],
      "metadata": {
        "colab": {
          "base_uri": "https://localhost:8080/"
        },
        "id": "93YoTRtbQip4",
        "outputId": "2a5d52a5-939e-48fc-bbd2-b93686737b1b"
      },
      "execution_count": 4,
      "outputs": [
        {
          "output_type": "stream",
          "name": "stdout",
          "text": [
            "      Name  Salary\n",
            "0  Chandan  5000.0\n",
            "1    Rahul  7000.0\n"
          ]
        }
      ]
    },
    {
      "cell_type": "code",
      "source": [
        "#Handling missing or null data\n",
        "\n",
        "import pandas as pd\n",
        "import numpy as np\n",
        "\n",
        "df = pd.DataFrame({'Name':['Chandan','Rahul',None,'Dev'],'Salary':[5000,7000,6000,None]})\n",
        "\n",
        "#Drop the missing value\n",
        "df_dropped = df.dropna()\n",
        "print(df_dropped)\n",
        "\n",
        "#Fill the missing value\n",
        "df['Salary'].fillna(df['Salary'].mean(),inplace=True)\n",
        "print(df)"
      ],
      "metadata": {
        "colab": {
          "base_uri": "https://localhost:8080/"
        },
        "id": "UP5GZAC_Scmq",
        "outputId": "2c4634a6-3a34-460d-effd-7abac68bf824"
      },
      "execution_count": 7,
      "outputs": [
        {
          "output_type": "stream",
          "name": "stdout",
          "text": [
            "      Name  Salary\n",
            "0  Chandan  5000.0\n",
            "1    Rahul  7000.0\n",
            "      Name  Salary\n",
            "0  Chandan  5000.0\n",
            "1    Rahul  7000.0\n",
            "2     None  6000.0\n",
            "3      Dev  6000.0\n"
          ]
        },
        {
          "output_type": "stream",
          "name": "stderr",
          "text": [
            "/tmp/ipython-input-427826647.py:13: FutureWarning: A value is trying to be set on a copy of a DataFrame or Series through chained assignment using an inplace method.\n",
            "The behavior will change in pandas 3.0. This inplace method will never work because the intermediate object on which we are setting values always behaves as a copy.\n",
            "\n",
            "For example, when doing 'df[col].method(value, inplace=True)', try using 'df.method({col: value}, inplace=True)' or df[col] = df[col].method(value) instead, to perform the operation inplace on the original object.\n",
            "\n",
            "\n",
            "  df['Salary'].fillna(df['Salary'].mean(),inplace=True)\n"
          ]
        }
      ]
    },
    {
      "cell_type": "code",
      "source": [
        "#Handling the time series data\n",
        "df = pd.DataFrame({'Date':['2025-01-01','2025-01-02','2025-01-03','2025-01-04'],'Sales':[100,200,250,300]})\n",
        "\n",
        "#Convert to datetime\n",
        "df = df.set_index('Date').asfreq('D').fillna(method='ffill')\n",
        "print(df)"
      ],
      "metadata": {
        "colab": {
          "base_uri": "https://localhost:8080/"
        },
        "id": "nWKbvq7WTpcs",
        "outputId": "ae9211d6-38a4-4b4e-a36a-c83f191336ce"
      },
      "execution_count": 9,
      "outputs": [
        {
          "output_type": "stream",
          "name": "stdout",
          "text": [
            "            Sales\n",
            "Date             \n",
            "2025-01-01    NaN\n",
            "2025-01-02    NaN\n",
            "2025-01-03    NaN\n",
            "2025-01-04    NaN\n"
          ]
        },
        {
          "output_type": "stream",
          "name": "stderr",
          "text": [
            "/tmp/ipython-input-2282561531.py:5: FutureWarning: DataFrame.fillna with 'method' is deprecated and will raise in a future version. Use obj.ffill() or obj.bfill() instead.\n",
            "  df = df.set_index('Date').asfreq('D').fillna(method='ffill')\n"
          ]
        }
      ]
    },
    {
      "cell_type": "code",
      "source": [
        "#Handling lists in pandas\n",
        "\n",
        "import pandas as pd\n",
        "df = pd.DataFrame({'Hobbies':[['Reading','Gaming'],['Cooking'],['Travelling','Music']]})\n",
        "\n",
        "#Convert the lists to string value\n",
        "df['Hobbies'] = df['Hobbies'].apply(lambda x: ','.join(x))\n",
        "print(df)\n"
      ],
      "metadata": {
        "colab": {
          "base_uri": "https://localhost:8080/"
        },
        "id": "GV0WJvciUmsN",
        "outputId": "78a9cf47-a5c9-452b-e46d-12b2a277542b"
      },
      "execution_count": 11,
      "outputs": [
        {
          "output_type": "stream",
          "name": "stdout",
          "text": [
            "            Hobbies\n",
            "0    Reading,Gaming\n",
            "1           Cooking\n",
            "2  Travelling,Music\n"
          ]
        }
      ]
    }
  ]
}