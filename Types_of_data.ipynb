{
  "nbformat": 4,
  "nbformat_minor": 0,
  "metadata": {
    "colab": {
      "provenance": [],
      "authorship_tag": "ABX9TyOt1uiwNfT4kIwQ0KZ9Dy7y",
      "include_colab_link": true
    },
    "kernelspec": {
      "name": "python3",
      "display_name": "Python 3"
    },
    "language_info": {
      "name": "python"
    }
  },
  "cells": [
    {
      "cell_type": "markdown",
      "metadata": {
        "id": "view-in-github",
        "colab_type": "text"
      },
      "source": [
        "<a href=\"https://colab.research.google.com/github/Shaikh-Ruman/Python/blob/main/Types_of_data.ipynb\" target=\"_parent\"><img src=\"https://colab.research.google.com/assets/colab-badge.svg\" alt=\"Open In Colab\"/></a>"
      ]
    },
    {
      "cell_type": "code",
      "execution_count": 2,
      "metadata": {
        "colab": {
          "base_uri": "https://localhost:8080/"
        },
        "id": "y2ngSb4fsibv",
        "outputId": "05d4bcfa-447e-443b-df74-f168d3b3466f"
      },
      "outputs": [
        {
          "output_type": "stream",
          "name": "stdout",
          "text": [
            "Sum: 68.5\n",
            "Square Root: 8.276472678623424\n"
          ]
        }
      ],
      "source": [
        "#Dealing and Handling types of data\n",
        "\n",
        "#Handle Nuemrical data\n",
        "import numpy as np\n",
        "import pandas as pd\n",
        "\n",
        "num1 = 34\n",
        "num2 = 34.5\n",
        "\n",
        "#Arithmetic Operation - Sum, Square root\n",
        "sum_value = num1+num2\n",
        "square_root = np.sqrt(sum_value)\n",
        "print('Sum:', sum_value)\n",
        "print('Square Root:', square_root)\n"
      ]
    },
    {
      "cell_type": "code",
      "source": [
        "#Handle missing value\n",
        "\n",
        "import pandas as pd\n",
        "df = pd.read_csv('data.csv')\n",
        "print(df)\n",
        "\n",
        "df.isnull().sum()\n",
        "df.fillna()\n"
      ],
      "metadata": {
        "colab": {
          "base_uri": "https://localhost:8080/",
          "height": 141
        },
        "id": "cwLbsBW8uU83",
        "outputId": "5c499c65-34d4-4ee0-8216-c6bded883ae0"
      },
      "execution_count": 4,
      "outputs": [
        {
          "output_type": "error",
          "ename": "NameError",
          "evalue": "name 'df' is not defined",
          "traceback": [
            "\u001b[0;31m---------------------------------------------------------------------------\u001b[0m",
            "\u001b[0;31mNameError\u001b[0m                                 Traceback (most recent call last)",
            "\u001b[0;32m/tmp/ipython-input-400103009.py\u001b[0m in \u001b[0;36m<cell line: 0>\u001b[0;34m()\u001b[0m\n\u001b[0;32m----> 1\u001b[0;31m \u001b[0mprint\u001b[0m\u001b[0;34m(\u001b[0m\u001b[0mdf\u001b[0m\u001b[0;34m)\u001b[0m\u001b[0;34m\u001b[0m\u001b[0;34m\u001b[0m\u001b[0m\n\u001b[0m",
            "\u001b[0;31mNameError\u001b[0m: name 'df' is not defined"
          ]
        }
      ]
    },
    {
      "cell_type": "code",
      "metadata": {
        "colab": {
          "base_uri": "https://localhost:8080/"
        },
        "id": "a00cd90c",
        "outputId": "e467cabb-2584-46f7-9eca-83853605a9d7"
      },
      "source": [
        "#Handling Categorical data\n",
        "\n",
        "import pandas as pd\n",
        "import numpy as np # Import numpy as it's used for np.nan\n",
        "\n",
        "# Corrected DataFrame creation\n",
        "df = pd.DataFrame({'Color':['Red','Blue','Green','Red',np.nan]})\n",
        "\n",
        "df['Color'].fillna('Unknown',inplace=True)\n",
        "\n",
        "#ONE-HOT ENCODING - Convert categorical values to numerical.\n",
        "df_encoded = pd.get_dummies(df, columns=['Color'])\n",
        "print(df_encoded)"
      ],
      "execution_count": 10,
      "outputs": [
        {
          "output_type": "stream",
          "name": "stdout",
          "text": [
            "   Color_Blue  Color_Green  Color_Red  Color_Unknown\n",
            "0       False        False       True          False\n",
            "1        True        False      False          False\n",
            "2       False         True      False          False\n",
            "3       False        False       True          False\n",
            "4       False        False      False           True\n"
          ]
        },
        {
          "output_type": "stream",
          "name": "stderr",
          "text": [
            "/tmp/ipython-input-827564477.py:9: FutureWarning: A value is trying to be set on a copy of a DataFrame or Series through chained assignment using an inplace method.\n",
            "The behavior will change in pandas 3.0. This inplace method will never work because the intermediate object on which we are setting values always behaves as a copy.\n",
            "\n",
            "For example, when doing 'df[col].method(value, inplace=True)', try using 'df.method({col: value}, inplace=True)' or df[col] = df[col].method(value) instead, to perform the operation inplace on the original object.\n",
            "\n",
            "\n",
            "  df['Color'].fillna('Unknown',inplace=True)\n"
          ]
        }
      ]
    },
    {
      "cell_type": "code",
      "source": [
        "#Hanlde the text data\n",
        "\n",
        "import re\n",
        "text = \"Hello, World! Welcome to Python.\"\n",
        "\n",
        "#Convert to lowercase\n",
        "lowercase_text = text.lower()\n",
        "print(lowercase_text)\n",
        "\n",
        "#Remove punctuation\n",
        "cleaned_text = re.sub(r'[^\\w\\s]', '', text)\n",
        "print(cleaned_text)\n",
        "\n",
        "#Tokenize words\n",
        "words = text.split()\n",
        "print(words)"
      ],
      "metadata": {
        "colab": {
          "base_uri": "https://localhost:8080/"
        },
        "id": "E875mRBIwjoa",
        "outputId": "1b86e6fe-fa47-44e7-fa2b-6b96bd6c4d76"
      },
      "execution_count": 11,
      "outputs": [
        {
          "output_type": "stream",
          "name": "stdout",
          "text": [
            "hello, world! welcome to python.\n",
            "Hello World Welcome to Python\n",
            "['Hello,', 'World!', 'Welcome', 'to', 'Python.']\n"
          ]
        }
      ]
    }
  ]
}